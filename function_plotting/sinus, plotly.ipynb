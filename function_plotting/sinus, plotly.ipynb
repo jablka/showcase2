{
 "cells": [
  {
   "cell_type": "code",
   "execution_count": 1,
   "metadata": {
    "tags": []
   },
   "outputs": [],
   "source": [
    "import numpy as np\n",
    "import plotly.express as px"
   ]
  },
  {
   "cell_type": "code",
   "execution_count": 2,
   "metadata": {},
   "outputs": [],
   "source": [
    "x_val = np.arange(0, 8*np.pi, 0.1) # 100\n",
    "y_val = np.sin(x_val)"
   ]
  },
  {
   "cell_type": "code",
   "execution_count": 3,
   "metadata": {},
   "outputs": [
    {
     "data": {
      "image/svg+xml": [
       "<svg class=\"main-svg\" xmlns=\"http://www.w3.org/2000/svg\" xmlns:xlink=\"http://www.w3.org/1999/xlink\" width=\"650\" height=\"300\" style=\"\" viewBox=\"0 0 650 300\"><rect x=\"0\" y=\"0\" width=\"650\" height=\"300\" style=\"fill: rgb(255, 255, 255); fill-opacity: 1;\"/><defs id=\"defs-509bb8\"><g class=\"clips\"><clipPath id=\"clip509bb8xyplot\" class=\"plotclip\"><rect width=\"565\" height=\"217\"/></clipPath><clipPath class=\"axesclip\" id=\"clip509bb8x\"><rect x=\"55\" y=\"0\" width=\"565\" height=\"300\"/></clipPath><clipPath class=\"axesclip\" id=\"clip509bb8y\"><rect x=\"0\" y=\"30\" width=\"650\" height=\"217\"/></clipPath><clipPath class=\"axesclip\" id=\"clip509bb8xy\"><rect x=\"55\" y=\"30\" width=\"565\" height=\"217\"/></clipPath></g><g class=\"gradients\"/><g class=\"patterns\"/></defs><g class=\"bglayer\"><rect class=\"bg\" x=\"55\" y=\"30\" width=\"565\" height=\"217\" style=\"fill: rgb(229, 236, 246); fill-opacity: 1; stroke-width: 0;\"/></g><g class=\"layer-below\"><g class=\"imagelayer\"/><g class=\"shapelayer\"/></g><g class=\"cartesianlayer\"><g class=\"subplot xy\"><g class=\"layer-subplot\"><g class=\"shapelayer\"/><g class=\"imagelayer\"/></g><g class=\"minor-gridlayer\"><g class=\"x\"/><g class=\"y\"/></g><g class=\"gridlayer\"><g class=\"x\"><path class=\"xgrid crisp\" transform=\"translate(167.55,0)\" d=\"M0,30v217\" style=\"stroke: rgb(255, 255, 255); stroke-opacity: 1; stroke-width: 1px;\"/><path class=\"xgrid crisp\" transform=\"translate(280.1,0)\" d=\"M0,30v217\" style=\"stroke: rgb(255, 255, 255); stroke-opacity: 1; stroke-width: 1px;\"/><path class=\"xgrid crisp\" transform=\"translate(392.65,0)\" d=\"M0,30v217\" style=\"stroke: rgb(255, 255, 255); stroke-opacity: 1; stroke-width: 1px;\"/><path class=\"xgrid crisp\" transform=\"translate(505.2,0)\" d=\"M0,30v217\" style=\"stroke: rgb(255, 255, 255); stroke-opacity: 1; stroke-width: 1px;\"/><path class=\"xgrid crisp\" transform=\"translate(617.75,0)\" d=\"M0,30v217\" style=\"stroke: rgb(255, 255, 255); stroke-opacity: 1; stroke-width: 1px;\"/></g><g class=\"y\"><path class=\"ygrid crisp\" transform=\"translate(0,192.75)\" d=\"M55,0h565\" style=\"stroke: rgb(255, 255, 255); stroke-opacity: 1; stroke-width: 1px;\"/><path class=\"ygrid crisp\" transform=\"translate(0,84.25)\" d=\"M55,0h565\" style=\"stroke: rgb(255, 255, 255); stroke-opacity: 1; stroke-width: 1px;\"/></g></g><g class=\"zerolinelayer\"><path class=\"xzl zl crisp\" transform=\"translate(55,0)\" d=\"M0,30v217\" style=\"stroke: rgb(255, 255, 255); stroke-opacity: 1; stroke-width: 2px;\"/><path class=\"yzl zl crisp\" transform=\"translate(0,138.5)\" d=\"M55,0h565\" style=\"stroke: rgb(255, 255, 255); stroke-opacity: 1; stroke-width: 2px;\"/></g><path class=\"xlines-below\"/><path class=\"ylines-below\"/><g class=\"overlines-below\"/><g class=\"xaxislayer-below\"/><g class=\"yaxislayer-below\"/><g class=\"overaxes-below\"/><g class=\"plot\" transform=\"translate(55,30)\" clip-path=\"url(#clip509bb8xyplot)\"><g class=\"scatterlayer mlayer\"><g class=\"trace scatter trace31f014\" style=\"stroke-miterlimit: 2; opacity: 1;\"><g class=\"fills\"/><g class=\"errorbars\"/><g class=\"lines\"><path class=\"js-line\" d=\"M0,108.5L13.51,93.18L15.76,91.03L22.51,85.68L24.76,84.33L31.51,81.77L33.76,81.44L38.27,81.6L40.52,82.08L47.27,85.09L49.52,86.57L56.27,92.27L58.53,94.52L69.78,107.37L72.03,110.08L83.29,122.87L85.54,125.1L92.29,130.7L94.54,132.14L101.29,135.02L103.55,135.45L108.05,135.52L110.3,135.15L117.05,132.46L119.3,131.08L126.06,125.62L128.31,123.44L139.56,110.75L141.81,108.04L155.32,92.81L157.57,90.68L164.32,85.43L166.57,84.12L173.33,81.7L175.58,81.41L180.08,81.66L182.33,82.19L189.08,85.32L191.33,86.84L198.09,92.63L200.34,94.91L211.59,107.83L213.84,110.54L227.35,125.46L229.6,127.48L236.35,132.36L238.61,133.53L245.36,135.5L247.61,135.62L252.11,135.06L254.36,134.38L261.12,130.82L263.37,129.17L270.12,123.05L272.37,120.7L288.13,102.22L290.38,99.62L299.38,90.34L301.63,88.42L308.39,83.93L310.64,82.9L315.14,81.63L317.39,81.39L321.89,81.73L324.14,82.31L330.9,85.56L333.15,87.12L339.9,93.01L342.15,95.31L355.66,110.99L357.91,113.68L369.16,125.81L371.41,127.81L378.17,132.58L380.42,133.7L387.17,135.54L389.42,135.62L393.92,134.96L396.18,134.24L402.93,130.56L405.18,128.87L411.93,122.67L414.18,120.29L441.2,90L443.45,88.11L450.2,83.74L452.45,82.75L456.95,81.57L459.2,81.38L463.71,81.81L465.96,82.43L472.71,85.81L474.96,87.4L481.71,93.38L483.96,95.71L497.47,111.45L499.72,114.12L510.98,126.16L513.23,128.12L519.98,132.78L522.23,133.87L528.98,135.57L531.24,135.61L535.74,134.86L537.99,134.09L544.74,130.29L546.99,128.57L556,119.88L558.25,117.36L565,109.39\" style=\"vector-effect: none; fill: none; stroke: rgb(99, 110, 250); stroke-opacity: 1; stroke-width: 2px; opacity: 1;\"/></g><g class=\"points\"/><g class=\"text\"/></g></g></g><g class=\"overplot\"/><path class=\"xlines-above crisp\" d=\"M0,0\" style=\"fill: none;\"/><path class=\"ylines-above crisp\" d=\"M0,0\" style=\"fill: none;\"/><g class=\"overlines-above\"/><g class=\"xaxislayer-above\"><g class=\"xtick\"><text text-anchor=\"middle\" x=\"0\" y=\"260\" transform=\"translate(55,0)\" style=\"font-family: 'Open Sans', verdana, arial, sans-serif; font-size: 12px; fill: rgb(42, 63, 95); fill-opacity: 1; white-space: pre; opacity: 1;\">0</text></g><g class=\"xtick\"><text text-anchor=\"middle\" x=\"0\" y=\"260\" style=\"font-family: 'Open Sans', verdana, arial, sans-serif; font-size: 12px; fill: rgb(42, 63, 95); fill-opacity: 1; white-space: pre; opacity: 1;\" transform=\"translate(167.55,0)\">5</text></g><g class=\"xtick\"><text text-anchor=\"middle\" x=\"0\" y=\"260\" style=\"font-family: 'Open Sans', verdana, arial, sans-serif; font-size: 12px; fill: rgb(42, 63, 95); fill-opacity: 1; white-space: pre; opacity: 1;\" transform=\"translate(280.1,0)\">10</text></g><g class=\"xtick\"><text text-anchor=\"middle\" x=\"0\" y=\"260\" style=\"font-family: 'Open Sans', verdana, arial, sans-serif; font-size: 12px; fill: rgb(42, 63, 95); fill-opacity: 1; white-space: pre; opacity: 1;\" transform=\"translate(392.65,0)\">15</text></g><g class=\"xtick\"><text text-anchor=\"middle\" x=\"0\" y=\"260\" style=\"font-family: 'Open Sans', verdana, arial, sans-serif; font-size: 12px; fill: rgb(42, 63, 95); fill-opacity: 1; white-space: pre; opacity: 1;\" transform=\"translate(505.2,0)\">20</text></g><g class=\"xtick\"><text text-anchor=\"middle\" x=\"0\" y=\"260\" style=\"font-family: 'Open Sans', verdana, arial, sans-serif; font-size: 12px; fill: rgb(42, 63, 95); fill-opacity: 1; white-space: pre; opacity: 1;\" transform=\"translate(617.75,0)\">25</text></g></g><g class=\"yaxislayer-above\"><g class=\"ytick\"><text text-anchor=\"end\" x=\"54\" y=\"4.199999999999999\" transform=\"translate(0,247)\" style=\"font-family: 'Open Sans', verdana, arial, sans-serif; font-size: 12px; fill: rgb(42, 63, 95); fill-opacity: 1; white-space: pre; opacity: 1;\">−4</text></g><g class=\"ytick\"><text text-anchor=\"end\" x=\"54\" y=\"4.199999999999999\" style=\"font-family: 'Open Sans', verdana, arial, sans-serif; font-size: 12px; fill: rgb(42, 63, 95); fill-opacity: 1; white-space: pre; opacity: 1;\" transform=\"translate(0,192.75)\">−2</text></g><g class=\"ytick\"><text text-anchor=\"end\" x=\"54\" y=\"4.199999999999999\" style=\"font-family: 'Open Sans', verdana, arial, sans-serif; font-size: 12px; fill: rgb(42, 63, 95); fill-opacity: 1; white-space: pre; opacity: 1;\" transform=\"translate(0,138.5)\">0</text></g><g class=\"ytick\"><text text-anchor=\"end\" x=\"54\" y=\"4.199999999999999\" style=\"font-family: 'Open Sans', verdana, arial, sans-serif; font-size: 12px; fill: rgb(42, 63, 95); fill-opacity: 1; white-space: pre; opacity: 1;\" transform=\"translate(0,84.25)\">2</text></g><g class=\"ytick\"><text text-anchor=\"end\" x=\"54\" y=\"4.199999999999999\" style=\"font-family: 'Open Sans', verdana, arial, sans-serif; font-size: 12px; fill: rgb(42, 63, 95); fill-opacity: 1; white-space: pre; opacity: 1;\" transform=\"translate(0,30)\">4</text></g></g><g class=\"overaxes-above\"/></g></g><g class=\"polarlayer\"/><g class=\"smithlayer\"/><g class=\"ternarylayer\"/><g class=\"geolayer\"/><g class=\"funnelarealayer\"/><g class=\"pielayer\"/><g class=\"iciclelayer\"/><g class=\"treemaplayer\"/><g class=\"sunburstlayer\"/><g class=\"glimages\"/><defs id=\"topdefs-509bb8\"><g class=\"clips\"/></defs><g class=\"layer-above\"><g class=\"imagelayer\"/><g class=\"shapelayer\"/></g><g class=\"infolayer\"><g class=\"g-gtitle\"/><g class=\"g-xtitle\"><text class=\"xtitle\" x=\"337.5\" y=\"287.3\" text-anchor=\"middle\" style=\"font-family: 'Open Sans', verdana, arial, sans-serif; font-size: 14px; fill: rgb(42, 63, 95); opacity: 1; font-weight: normal; white-space: pre;\">x</text></g><g class=\"g-ytitle\" transform=\"translate(1.7529296875,0)\"><text class=\"ytitle\" transform=\"rotate(-90,12.246875000000003,138.5)\" x=\"12.246875000000003\" y=\"138.5\" text-anchor=\"middle\" style=\"font-family: 'Open Sans', verdana, arial, sans-serif; font-size: 14px; fill: rgb(42, 63, 95); opacity: 1; font-weight: normal; white-space: pre;\">y</text></g></g></svg>"
      ]
     },
     "metadata": {},
     "output_type": "display_data"
    }
   ],
   "source": [
    "fig = px.line(x=x_val, y=y_val)\n",
    "fig.update_layout(yaxis_range=[-4,4]) \n",
    "\n",
    "# Update the layout to change the graph size\n",
    "fig.update_layout(\n",
    "    margin=dict(l=30, r=30, t=30, b=30),  # margin values in pixels\n",
    "    width=650,   # new width in pixels\n",
    "    height=300   # new height in pixels\n",
    ")\n",
    "\n",
    "# fig.show(config={'staticPlot':True}) \n",
    "fig.show('svg')"
   ]
  },
  {
   "cell_type": "code",
   "execution_count": null,
   "metadata": {},
   "outputs": [],
   "source": []
  }
 ],
 "metadata": {
  "kernelspec": {
   "display_name": "Python 3 (ipykernel)",
   "language": "python",
   "name": "python3"
  },
  "language_info": {
   "codemirror_mode": {
    "name": "ipython",
    "version": 3
   },
   "file_extension": ".py",
   "mimetype": "text/x-python",
   "name": "python",
   "nbconvert_exporter": "python",
   "pygments_lexer": "ipython3",
   "version": "3.11.1"
  }
 },
 "nbformat": 4,
 "nbformat_minor": 4
}
