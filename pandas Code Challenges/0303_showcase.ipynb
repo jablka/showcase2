{
 "cells": [
  {
   "attachments": {},
   "cell_type": "markdown",
   "id": "20588d2a",
   "metadata": {},
   "source": [
    "## data cleaning, unification of values in 'time' column"
   ]
  },
  {
   "cell_type": "code",
   "execution_count": 44,
   "id": "5a9a92a6",
   "metadata": {},
   "outputs": [],
   "source": [
    "import pandas as pd"
   ]
  },
  {
   "cell_type": "code",
   "execution_count": 45,
   "id": "35d47016",
   "metadata": {},
   "outputs": [],
   "source": [
    "# Task:\n",
    "# Correct the date types of the 'time' column by converting them into:\n",
    "# Morning, Afternoon, Evening and Night classes."
   ]
  },
  {
   "cell_type": "code",
   "execution_count": 46,
   "id": "910ceb1d",
   "metadata": {},
   "outputs": [
    {
     "data": {
      "text/html": [
       "<div>\n",
       "<style scoped>\n",
       "    .dataframe tbody tr th:only-of-type {\n",
       "        vertical-align: middle;\n",
       "    }\n",
       "\n",
       "    .dataframe tbody tr th {\n",
       "        vertical-align: top;\n",
       "    }\n",
       "\n",
       "    .dataframe thead th {\n",
       "        text-align: right;\n",
       "    }\n",
       "</style>\n",
       "<table border=\"1\" class=\"dataframe\">\n",
       "  <thead>\n",
       "    <tr style=\"text-align: right;\">\n",
       "      <th></th>\n",
       "      <th>id</th>\n",
       "      <th>date</th>\n",
       "      <th>time</th>\n",
       "      <th>country_name</th>\n",
       "      <th>state/province</th>\n",
       "      <th>population</th>\n",
       "      <th>landslide_type</th>\n",
       "      <th>trigger</th>\n",
       "      <th>fatalities</th>\n",
       "    </tr>\n",
       "  </thead>\n",
       "  <tbody>\n",
       "    <tr>\n",
       "      <th>0</th>\n",
       "      <td>34</td>\n",
       "      <td>3/2/07</td>\n",
       "      <td>Night</td>\n",
       "      <td>United States</td>\n",
       "      <td>Virginia</td>\n",
       "      <td>16000</td>\n",
       "      <td>Landslide</td>\n",
       "      <td>Rain</td>\n",
       "      <td>NaN</td>\n",
       "    </tr>\n",
       "    <tr>\n",
       "      <th>1</th>\n",
       "      <td>42</td>\n",
       "      <td>3/22/07</td>\n",
       "      <td>NaN</td>\n",
       "      <td>United States</td>\n",
       "      <td>Ohio</td>\n",
       "      <td>17288</td>\n",
       "      <td>Landslide</td>\n",
       "      <td>Rain</td>\n",
       "      <td>NaN</td>\n",
       "    </tr>\n",
       "    <tr>\n",
       "      <th>2</th>\n",
       "      <td>56</td>\n",
       "      <td>4/6/07</td>\n",
       "      <td>NaN</td>\n",
       "      <td>United States</td>\n",
       "      <td>Pennsylvania</td>\n",
       "      <td>15930</td>\n",
       "      <td>Landslide</td>\n",
       "      <td>Rain</td>\n",
       "      <td>NaN</td>\n",
       "    </tr>\n",
       "    <tr>\n",
       "      <th>3</th>\n",
       "      <td>59</td>\n",
       "      <td>4/14/07</td>\n",
       "      <td>NaN</td>\n",
       "      <td>Canada</td>\n",
       "      <td>Quebec</td>\n",
       "      <td>42786</td>\n",
       "      <td>Riverbank collapse</td>\n",
       "      <td>Rain</td>\n",
       "      <td>NaN</td>\n",
       "    </tr>\n",
       "    <tr>\n",
       "      <th>4</th>\n",
       "      <td>61</td>\n",
       "      <td>4/15/07</td>\n",
       "      <td>NaN</td>\n",
       "      <td>United States</td>\n",
       "      <td>Kentucky</td>\n",
       "      <td>6903</td>\n",
       "      <td>Landslide</td>\n",
       "      <td>Downpour</td>\n",
       "      <td>0.0</td>\n",
       "    </tr>\n",
       "  </tbody>\n",
       "</table>\n",
       "</div>"
      ],
      "text/plain": [
       "   id     date   time   country_name state/province  population   \n",
       "0  34   3/2/07  Night  United States       Virginia       16000  \\\n",
       "1  42  3/22/07    NaN  United States           Ohio       17288   \n",
       "2  56   4/6/07    NaN  United States   Pennsylvania       15930   \n",
       "3  59  4/14/07    NaN         Canada         Quebec       42786   \n",
       "4  61  4/15/07    NaN  United States       Kentucky        6903   \n",
       "\n",
       "       landslide_type   trigger  fatalities  \n",
       "0           Landslide      Rain         NaN  \n",
       "1           Landslide      Rain         NaN  \n",
       "2           Landslide      Rain         NaN  \n",
       "3  Riverbank collapse      Rain         NaN  \n",
       "4           Landslide  Downpour         0.0  "
      ]
     },
     "execution_count": 46,
     "metadata": {},
     "output_type": "execute_result"
    }
   ],
   "source": [
    "df = pd.read_csv(\"./data/landslides.csv\")\n",
    "df.head()"
   ]
  },
  {
   "cell_type": "code",
   "execution_count": 47,
   "id": "d183d489",
   "metadata": {},
   "outputs": [],
   "source": [
    "# adjusting the data (done in previous challenges)\n",
    "df.dropna(subset='date', inplace=True) \n",
    "df['time'].fillna('Not Known', inplace=True)"
   ]
  },
  {
   "cell_type": "code",
   "execution_count": 48,
   "id": "83333698",
   "metadata": {},
   "outputs": [
    {
     "data": {
      "text/plain": [
       "time\n",
       "Not Known        1064\n",
       "Night              97\n",
       "Morning            87\n",
       "Afternoon          58\n",
       "Early morning      36\n",
       "3:00:00            12\n",
       "Evening            10\n",
       "19:00:00            9\n",
       "evening             8\n",
       "18:00:00            8\n",
       "10:00:00            8\n",
       "2:00:00             7\n",
       "Late night          7\n",
       "Overnight           6\n",
       "23:30:00            6\n",
       "15:00:00            6\n",
       "16:00:00            6\n",
       "5:00:00             6\n",
       "12:00:00            5\n",
       "21:00:00            5\n",
       "Name: count, dtype: int64"
      ]
     },
     "execution_count": 48,
     "metadata": {},
     "output_type": "execute_result"
    }
   ],
   "source": [
    "# data in 'time' column are not unified,\n",
    "# we need to unify them into: Morning, Afternoon, Evening and Night classes.\n",
    "df['time'].value_counts().head(20)"
   ]
  },
  {
   "cell_type": "code",
   "execution_count": 49,
   "id": "614e05db",
   "metadata": {},
   "outputs": [],
   "source": [
    "# let's write our function\n",
    "def rozlisuj(hodn):\n",
    "\n",
    "    if \":\" in hodn:\n",
    "        posud = int(hodn.split(sep=\":\")[0])\n",
    "        if posud >= 12 and posud < 18:\n",
    "            return \"Afternoon\"\n",
    "\n",
    "        if posud >= 18 and posud < 24:    \n",
    "            return \"Evening\"\n",
    "\n",
    "        if posud < 6:\n",
    "            return \"Night\"\n",
    "\n",
    "        if posud >= 6:\n",
    "            return \"Morning\"\n",
    "    \n",
    "    if 'morning' in hodn:\n",
    "        return 'Morning'\n",
    "    \n",
    "    if 'afternoon' in hodn:\n",
    "        return 'Afternoon'\n",
    "    \n",
    "    if 'night' in hodn:\n",
    "        return 'Night'\n",
    "\n",
    "    if 'evening' in hodn:\n",
    "        return 'Evening'\n",
    "\n",
    "    if 'dawn' in hodn:\n",
    "        return 'Night'\n",
    "    \n",
    "    if hodn not in ['Not Known', 'Night', 'Morning', 'Afternoon', 'Evening']:\n",
    "        return 'Not Known'\n",
    "\n",
    "    return hodn # if the value is already in correct format, no need to change."
   ]
  },
  {
   "cell_type": "code",
   "execution_count": 50,
   "id": "212ed756",
   "metadata": {},
   "outputs": [
    {
     "data": {
      "text/plain": [
       "'Morning'"
      ]
     },
     "execution_count": 50,
     "metadata": {},
     "output_type": "execute_result"
    }
   ],
   "source": [
    "# test\n",
    "rozlisuj(\"9:40:00\")"
   ]
  },
  {
   "cell_type": "code",
   "execution_count": 51,
   "id": "6471a705",
   "metadata": {},
   "outputs": [],
   "source": [
    "df['time'] = df['time'].apply(rozlisuj)"
   ]
  },
  {
   "cell_type": "code",
   "execution_count": 52,
   "id": "0a9642a9",
   "metadata": {},
   "outputs": [
    {
     "data": {
      "text/plain": [
       "time\n",
       "Not Known    1067\n",
       "Night         189\n",
       "Morning       188\n",
       "Afternoon     145\n",
       "Evening       101\n",
       "Name: count, dtype: int64"
      ]
     },
     "execution_count": 52,
     "metadata": {},
     "output_type": "execute_result"
    }
   ],
   "source": [
    "df['time'].value_counts() # now it looks better"
   ]
  },
  {
   "cell_type": "code",
   "execution_count": 53,
   "id": "4d4718e5",
   "metadata": {},
   "outputs": [],
   "source": [
    "# done"
   ]
  },
  {
   "cell_type": "code",
   "execution_count": null,
   "id": "054066a9",
   "metadata": {},
   "outputs": [],
   "source": []
  }
 ],
 "metadata": {
  "kernelspec": {
   "display_name": "Python 3 (ipykernel)",
   "language": "python",
   "name": "python3"
  },
  "language_info": {
   "codemirror_mode": {
    "name": "ipython",
    "version": 3
   },
   "file_extension": ".py",
   "mimetype": "text/x-python",
   "name": "python",
   "nbconvert_exporter": "python",
   "pygments_lexer": "ipython3",
   "version": "3.11.2"
  }
 },
 "nbformat": 4,
 "nbformat_minor": 5
}
